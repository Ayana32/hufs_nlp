{
 "cells": [
  {
   "cell_type": "code",
   "execution_count": 1,
   "id": "0eec43d9",
   "metadata": {},
   "outputs": [],
   "source": [
    "import pandas as pd"
   ]
  },
  {
   "cell_type": "code",
   "execution_count": 2,
   "id": "484ec6d2",
   "metadata": {},
   "outputs": [],
   "source": [
    "cm1 = pd.read_csv('날씨의아이review.csv')"
   ]
  },
  {
   "cell_type": "code",
   "execution_count": 3,
   "id": "a94eca5a",
   "metadata": {},
   "outputs": [],
   "source": [
    "cm1['id'] = list(range(1, 6341))"
   ]
  },
  {
   "cell_type": "code",
   "execution_count": 4,
   "id": "f026e152",
   "metadata": {},
   "outputs": [
    {
     "name": "stdout",
     "output_type": "stream",
     "text": [
      "<class 'pandas.core.frame.DataFrame'>\n",
      "RangeIndex: 6340 entries, 0 to 6339\n",
      "Data columns (total 4 columns):\n",
      " #   Column    Non-Null Count  Dtype \n",
      "---  ------    --------------  ----- \n",
      " 0   Review    6340 non-null   object\n",
      " 1   Rank      6340 non-null   int64 \n",
      " 2   Sympathy  6340 non-null   int64 \n",
      " 3   id        6340 non-null   int64 \n",
      "dtypes: int64(3), object(1)\n",
      "memory usage: 198.2+ KB\n"
     ]
    }
   ],
   "source": [
    "cm1.info()"
   ]
  },
  {
   "cell_type": "code",
   "execution_count": 5,
   "id": "73ca1edc",
   "metadata": {},
   "outputs": [
    {
     "data": {
      "text/html": [
       "<div>\n",
       "<style scoped>\n",
       "    .dataframe tbody tr th:only-of-type {\n",
       "        vertical-align: middle;\n",
       "    }\n",
       "\n",
       "    .dataframe tbody tr th {\n",
       "        vertical-align: top;\n",
       "    }\n",
       "\n",
       "    .dataframe thead th {\n",
       "        text-align: right;\n",
       "    }\n",
       "</style>\n",
       "<table border=\"1\" class=\"dataframe\">\n",
       "  <thead>\n",
       "    <tr style=\"text-align: right;\">\n",
       "      <th></th>\n",
       "      <th>Review</th>\n",
       "      <th>Rank</th>\n",
       "      <th>Sympathy</th>\n",
       "      <th>id</th>\n",
       "    </tr>\n",
       "  </thead>\n",
       "  <tbody>\n",
       "    <tr>\n",
       "      <th>0</th>\n",
       "      <td>전체의 행복을 위해서라면 개인의 행복을 희생해도 괜찮은가</td>\n",
       "      <td>10</td>\n",
       "      <td>1593</td>\n",
       "      <td>1</td>\n",
       "    </tr>\n",
       "    <tr>\n",
       "      <th>1</th>\n",
       "      <td>이영화는 집단(도쿄)응 위해 개인(히나)의 희생을 당연시하는 일본 전체주의를 비판하...</td>\n",
       "      <td>10</td>\n",
       "      <td>1384</td>\n",
       "      <td>2</td>\n",
       "    </tr>\n",
       "    <tr>\n",
       "      <th>2</th>\n",
       "      <td>재미 있으면 공감버튼을 눌러주세요</td>\n",
       "      <td>10</td>\n",
       "      <td>1446</td>\n",
       "      <td>3</td>\n",
       "    </tr>\n",
       "    <tr>\n",
       "      <th>3</th>\n",
       "      <td>미츠하랑 타키나오는데 나중에 타키 할머니 찾아갔을때 할머니 팔목에 미츠하 팔찌를 착...</td>\n",
       "      <td>10</td>\n",
       "      <td>1064</td>\n",
       "      <td>4</td>\n",
       "    </tr>\n",
       "    <tr>\n",
       "      <th>4</th>\n",
       "      <td>영상미랑 효과음, 장면에 맞는 OST는 정말 극찬받을 만함. 하지만 영화 스토리만 ...</td>\n",
       "      <td>3</td>\n",
       "      <td>2274</td>\n",
       "      <td>5</td>\n",
       "    </tr>\n",
       "  </tbody>\n",
       "</table>\n",
       "</div>"
      ],
      "text/plain": [
       "                                              Review  Rank  Sympathy  id\n",
       "0                   전체의 행복을 위해서라면 개인의 행복을 희생해도 괜찮은가     10      1593   1\n",
       "1  이영화는 집단(도쿄)응 위해 개인(히나)의 희생을 당연시하는 일본 전체주의를 비판하...    10      1384   2\n",
       "2                                재미 있으면 공감버튼을 눌러주세요     10      1446   3\n",
       "3  미츠하랑 타키나오는데 나중에 타키 할머니 찾아갔을때 할머니 팔목에 미츠하 팔찌를 착...    10      1064   4\n",
       "4  영상미랑 효과음, 장면에 맞는 OST는 정말 극찬받을 만함. 하지만 영화 스토리만 ...     3      2274   5"
      ]
     },
     "execution_count": 5,
     "metadata": {},
     "output_type": "execute_result"
    }
   ],
   "source": [
    "cm1.head()"
   ]
  },
  {
   "cell_type": "code",
   "execution_count": 6,
   "id": "7a5fde4b",
   "metadata": {},
   "outputs": [
    {
     "data": {
      "text/html": [
       "<div>\n",
       "<style scoped>\n",
       "    .dataframe tbody tr th:only-of-type {\n",
       "        vertical-align: middle;\n",
       "    }\n",
       "\n",
       "    .dataframe tbody tr th {\n",
       "        vertical-align: top;\n",
       "    }\n",
       "\n",
       "    .dataframe thead th {\n",
       "        text-align: right;\n",
       "    }\n",
       "</style>\n",
       "<table border=\"1\" class=\"dataframe\">\n",
       "  <thead>\n",
       "    <tr style=\"text-align: right;\">\n",
       "      <th></th>\n",
       "      <th>Rank</th>\n",
       "      <th>Sympathy</th>\n",
       "      <th>id</th>\n",
       "    </tr>\n",
       "  </thead>\n",
       "  <tbody>\n",
       "    <tr>\n",
       "      <th>count</th>\n",
       "      <td>6340.000000</td>\n",
       "      <td>6340.000000</td>\n",
       "      <td>6340.000000</td>\n",
       "    </tr>\n",
       "    <tr>\n",
       "      <th>mean</th>\n",
       "      <td>8.100000</td>\n",
       "      <td>1259.700000</td>\n",
       "      <td>3170.500000</td>\n",
       "    </tr>\n",
       "    <tr>\n",
       "      <th>std</th>\n",
       "      <td>2.625088</td>\n",
       "      <td>430.453523</td>\n",
       "      <td>1830.344685</td>\n",
       "    </tr>\n",
       "    <tr>\n",
       "      <th>min</th>\n",
       "      <td>3.000000</td>\n",
       "      <td>671.000000</td>\n",
       "      <td>1.000000</td>\n",
       "    </tr>\n",
       "    <tr>\n",
       "      <th>25%</th>\n",
       "      <td>6.000000</td>\n",
       "      <td>950.000000</td>\n",
       "      <td>1585.750000</td>\n",
       "    </tr>\n",
       "    <tr>\n",
       "      <th>50%</th>\n",
       "      <td>10.000000</td>\n",
       "      <td>1179.500000</td>\n",
       "      <td>3170.500000</td>\n",
       "    </tr>\n",
       "    <tr>\n",
       "      <th>75%</th>\n",
       "      <td>10.000000</td>\n",
       "      <td>1446.000000</td>\n",
       "      <td>4755.250000</td>\n",
       "    </tr>\n",
       "    <tr>\n",
       "      <th>max</th>\n",
       "      <td>10.000000</td>\n",
       "      <td>2274.000000</td>\n",
       "      <td>6340.000000</td>\n",
       "    </tr>\n",
       "  </tbody>\n",
       "</table>\n",
       "</div>"
      ],
      "text/plain": [
       "              Rank     Sympathy           id\n",
       "count  6340.000000  6340.000000  6340.000000\n",
       "mean      8.100000  1259.700000  3170.500000\n",
       "std       2.625088   430.453523  1830.344685\n",
       "min       3.000000   671.000000     1.000000\n",
       "25%       6.000000   950.000000  1585.750000\n",
       "50%      10.000000  1179.500000  3170.500000\n",
       "75%      10.000000  1446.000000  4755.250000\n",
       "max      10.000000  2274.000000  6340.000000"
      ]
     },
     "execution_count": 6,
     "metadata": {},
     "output_type": "execute_result"
    }
   ],
   "source": [
    "cm1.describe()"
   ]
  },
  {
   "cell_type": "code",
   "execution_count": 8,
   "id": "71228d30",
   "metadata": {},
   "outputs": [],
   "source": [
    "import re\n",
    "from tqdm import tqdm\n",
    "from konlpy.tag import Okt\n",
    "from collections import Counter"
   ]
  },
  {
   "cell_type": "code",
   "execution_count": 9,
   "id": "796733c2",
   "metadata": {},
   "outputs": [
    {
     "data": {
      "text/plain": [
       "0"
      ]
     },
     "execution_count": 9,
     "metadata": {},
     "output_type": "execute_result"
    }
   ],
   "source": [
    "cm1.duplicated().sum()"
   ]
  },
  {
   "cell_type": "code",
   "execution_count": 17,
   "id": "c9d9fd9e",
   "metadata": {},
   "outputs": [],
   "source": [
    "def extract_word(text):\n",
    "    hangul = re.compile('[^가-힣]') \n",
    "    result = hangul.sub(' ', text) \n",
    "    return result"
   ]
  },
  {
   "cell_type": "code",
   "execution_count": 20,
   "id": "cae2b954",
   "metadata": {},
   "outputs": [
    {
     "name": "stdout",
     "output_type": "stream",
     "text": [
      "추출 후 :  영상미는 좋았는데 스토리는 아쉬웠음 떡밥회수도 안되고 그래서 뭘 말하고 싶은건지 너의이름은 기대하고 보는 사람은 실망 많이 할 듯 \n"
     ]
    }
   ],
   "source": [
    "print(\"추출 후 : \",extract_word(cm1['Review'].iloc[865]))"
   ]
  },
  {
   "cell_type": "code",
   "execution_count": 21,
   "id": "f299d840",
   "metadata": {},
   "outputs": [],
   "source": [
    "cm1['Review'] = cm1['Review'].apply(lambda x:extract_word(x))"
   ]
  },
  {
   "cell_type": "code",
   "execution_count": 27,
   "id": "7624f90e",
   "metadata": {},
   "outputs": [
    {
     "name": "stdout",
     "output_type": "stream",
     "text": [
      "<class 'str'>\n",
      "미츠하는 백화점에서 일하고있었다 \n"
     ]
    }
   ],
   "source": [
    "sample_text = cm1['Review'].iloc[18]\n",
    "print(type(sample_text))\n",
    "print(sample_text)"
   ]
  },
  {
   "cell_type": "code",
   "execution_count": 29,
   "id": "d7a590c4",
   "metadata": {},
   "outputs": [
    {
     "name": "stdout",
     "output_type": "stream",
     "text": [
      "[('미츠하', 'Noun'),\n",
      " ('는', 'Josa'),\n",
      " ('백화점', 'Noun'),\n",
      " ('에서', 'Josa'),\n",
      " ('일', 'Noun'),\n",
      " ('하고있었다', 'Verb')]\n"
     ]
    }
   ],
   "source": [
    "from konlpy.utils import pprint\n",
    "from konlpy.tag import Okt\n",
    "okt = Okt()\n",
    "# (단어, 품사) 추출\n",
    "tokens = okt.pos(sample_text)\n",
    "pprint(tokens)"
   ]
  },
  {
   "cell_type": "code",
   "execution_count": 30,
   "id": "75e34df9",
   "metadata": {},
   "outputs": [
    {
     "name": "stdout",
     "output_type": "stream",
     "text": [
      "['미츠하', '는', '백화점', '에서', '일', '하고있었다']\n"
     ]
    }
   ],
   "source": [
    "tokens = okt.morphs(sample_text)\n",
    "pprint(tokens)"
   ]
  },
  {
   "cell_type": "code",
   "execution_count": 31,
   "id": "e7d294f2",
   "metadata": {},
   "outputs": [
    {
     "name": "stdout",
     "output_type": "stream",
     "text": [
      "['미츠하', '백화점', '일']\n"
     ]
    }
   ],
   "source": [
    "# 명사 ONLY 추출\n",
    "tokens = okt.nouns(sample_text)\n",
    "pprint(tokens)"
   ]
  },
  {
   "cell_type": "code",
   "execution_count": null,
   "id": "9d17827c",
   "metadata": {},
   "outputs": [],
   "source": []
  },
  {
   "cell_type": "code",
   "execution_count": 5,
   "id": "80d50d7b",
   "metadata": {},
   "outputs": [],
   "source": [
    "cm2 = pd.read_csv('초속5센티미터review.csv')"
   ]
  },
  {
   "cell_type": "code",
   "execution_count": 6,
   "id": "32160aef",
   "metadata": {},
   "outputs": [
    {
     "data": {
      "text/html": [
       "<div>\n",
       "<style scoped>\n",
       "    .dataframe tbody tr th:only-of-type {\n",
       "        vertical-align: middle;\n",
       "    }\n",
       "\n",
       "    .dataframe tbody tr th {\n",
       "        vertical-align: top;\n",
       "    }\n",
       "\n",
       "    .dataframe thead th {\n",
       "        text-align: right;\n",
       "    }\n",
       "</style>\n",
       "<table border=\"1\" class=\"dataframe\">\n",
       "  <thead>\n",
       "    <tr style=\"text-align: right;\">\n",
       "      <th></th>\n",
       "      <th>Review</th>\n",
       "      <th>Rank</th>\n",
       "      <th>Sympathy</th>\n",
       "    </tr>\n",
       "  </thead>\n",
       "  <tbody>\n",
       "    <tr>\n",
       "      <th>0</th>\n",
       "      <td>마지막 5분을 위한 55분의 전초석. 마지막 5분 때문에 난 이 영화를 아직도 소장...</td>\n",
       "      <td>10</td>\n",
       "      <td>1151</td>\n",
       "    </tr>\n",
       "    <tr>\n",
       "      <th>1</th>\n",
       "      <td>와나 님들 마지막에 타카키가 열차지나갈때 까지 기달렷는데 여자 없는거보고 웃음  짓...</td>\n",
       "      <td>10</td>\n",
       "      <td>822</td>\n",
       "    </tr>\n",
       "    <tr>\n",
       "      <th>2</th>\n",
       "      <td>첫 사랑을 잊어가는 속도..</td>\n",
       "      <td>9</td>\n",
       "      <td>703</td>\n",
       "    </tr>\n",
       "    <tr>\n",
       "      <th>3</th>\n",
       "      <td>영화 후유증 진짜 심하게옴.. 갠적으로 결말에서 멘붕와버림..</td>\n",
       "      <td>10</td>\n",
       "      <td>675</td>\n",
       "    </tr>\n",
       "    <tr>\n",
       "      <th>4</th>\n",
       "      <td>여자를 잊지 못하는 남자의 마음을 이토록 잘 표현한 애니메이션이 있을까</td>\n",
       "      <td>10</td>\n",
       "      <td>498</td>\n",
       "    </tr>\n",
       "  </tbody>\n",
       "</table>\n",
       "</div>"
      ],
      "text/plain": [
       "                                              Review  Rank  Sympathy\n",
       "0  마지막 5분을 위한 55분의 전초석. 마지막 5분 때문에 난 이 영화를 아직도 소장...    10      1151\n",
       "1  와나 님들 마지막에 타카키가 열차지나갈때 까지 기달렷는데 여자 없는거보고 웃음  짓...    10       822\n",
       "2                                   첫 사랑을 잊어가는 속도..      9       703\n",
       "3                영화 후유증 진짜 심하게옴.. 갠적으로 결말에서 멘붕와버림..     10       675\n",
       "4           여자를 잊지 못하는 남자의 마음을 이토록 잘 표현한 애니메이션이 있을까     10       498"
      ]
     },
     "execution_count": 6,
     "metadata": {},
     "output_type": "execute_result"
    }
   ],
   "source": [
    "cm2.head()"
   ]
  },
  {
   "cell_type": "code",
   "execution_count": 7,
   "id": "2e86b54d",
   "metadata": {},
   "outputs": [
    {
     "name": "stdout",
     "output_type": "stream",
     "text": [
      "<class 'pandas.core.frame.DataFrame'>\n",
      "RangeIndex: 4130 entries, 0 to 4129\n",
      "Data columns (total 3 columns):\n",
      " #   Column    Non-Null Count  Dtype \n",
      "---  ------    --------------  ----- \n",
      " 0   Review    4130 non-null   object\n",
      " 1   Rank      4130 non-null   int64 \n",
      " 2   Sympathy  4130 non-null   int64 \n",
      "dtypes: int64(2), object(1)\n",
      "memory usage: 96.9+ KB\n"
     ]
    }
   ],
   "source": [
    "cm2.info()"
   ]
  },
  {
   "cell_type": "code",
   "execution_count": null,
   "id": "8f547d0a",
   "metadata": {},
   "outputs": [],
   "source": []
  }
 ],
 "metadata": {
  "kernelspec": {
   "display_name": "Python 3 (ipykernel)",
   "language": "python",
   "name": "python3"
  },
  "language_info": {
   "codemirror_mode": {
    "name": "ipython",
    "version": 3
   },
   "file_extension": ".py",
   "mimetype": "text/x-python",
   "name": "python",
   "nbconvert_exporter": "python",
   "pygments_lexer": "ipython3",
   "version": "3.9.12"
  }
 },
 "nbformat": 4,
 "nbformat_minor": 5
}
