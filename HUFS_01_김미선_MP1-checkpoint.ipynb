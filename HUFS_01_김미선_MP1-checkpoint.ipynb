{
 "cells": [
  {
   "cell_type": "code",
   "execution_count": 1,
   "id": "39c1136d",
   "metadata": {},
   "outputs": [],
   "source": [
    "import numpy as np\n",
    "import pandas as pd\n",
    "import matplotlib.pyplot as plt"
   ]
  },
  {
   "cell_type": "code",
   "execution_count": 2,
   "id": "41545a9e",
   "metadata": {},
   "outputs": [
    {
     "data": {
      "text/html": [
       "<div>\n",
       "<style scoped>\n",
       "    .dataframe tbody tr th:only-of-type {\n",
       "        vertical-align: middle;\n",
       "    }\n",
       "\n",
       "    .dataframe tbody tr th {\n",
       "        vertical-align: top;\n",
       "    }\n",
       "\n",
       "    .dataframe thead th {\n",
       "        text-align: right;\n",
       "    }\n",
       "</style>\n",
       "<table border=\"1\" class=\"dataframe\">\n",
       "  <thead>\n",
       "    <tr style=\"text-align: right;\">\n",
       "      <th></th>\n",
       "      <th>0</th>\n",
       "      <th>1</th>\n",
       "      <th>2</th>\n",
       "      <th>3</th>\n",
       "      <th>4</th>\n",
       "      <th>5</th>\n",
       "      <th>6</th>\n",
       "      <th>7</th>\n",
       "    </tr>\n",
       "  </thead>\n",
       "  <tbody>\n",
       "    <tr>\n",
       "      <th>0</th>\n",
       "      <td>id</td>\n",
       "      <td>link</td>\n",
       "      <td>content</td>\n",
       "      <td>date</td>\n",
       "      <td>retweets</td>\n",
       "      <td>favorites</td>\n",
       "      <td>mentions</td>\n",
       "      <td>hashtags</td>\n",
       "    </tr>\n",
       "    <tr>\n",
       "      <th>1</th>\n",
       "      <td>1698308935</td>\n",
       "      <td>https://twitter.com/realDonaldTrump/status/169...</td>\n",
       "      <td>Be sure to tune in and watch Donald Trump on L...</td>\n",
       "      <td>2009-05-04 13:54:25</td>\n",
       "      <td>510</td>\n",
       "      <td>917</td>\n",
       "      <td>NaN</td>\n",
       "      <td>NaN</td>\n",
       "    </tr>\n",
       "    <tr>\n",
       "      <th>2</th>\n",
       "      <td>1701461182</td>\n",
       "      <td>https://twitter.com/realDonaldTrump/status/170...</td>\n",
       "      <td>Donald Trump will be appearing on The View tom...</td>\n",
       "      <td>2009-05-04 20:00:10</td>\n",
       "      <td>34</td>\n",
       "      <td>267</td>\n",
       "      <td>NaN</td>\n",
       "      <td>NaN</td>\n",
       "    </tr>\n",
       "    <tr>\n",
       "      <th>3</th>\n",
       "      <td>1737479987</td>\n",
       "      <td>https://twitter.com/realDonaldTrump/status/173...</td>\n",
       "      <td>Donald Trump reads Top Ten Financial Tips on L...</td>\n",
       "      <td>2009-05-08 08:38:08</td>\n",
       "      <td>13</td>\n",
       "      <td>19</td>\n",
       "      <td>NaN</td>\n",
       "      <td>NaN</td>\n",
       "    </tr>\n",
       "    <tr>\n",
       "      <th>4</th>\n",
       "      <td>1741160716</td>\n",
       "      <td>https://twitter.com/realDonaldTrump/status/174...</td>\n",
       "      <td>New Blog Post: Celebrity Apprentice Finale and...</td>\n",
       "      <td>2009-05-08 15:40:15</td>\n",
       "      <td>11</td>\n",
       "      <td>26</td>\n",
       "      <td>NaN</td>\n",
       "      <td>NaN</td>\n",
       "    </tr>\n",
       "  </tbody>\n",
       "</table>\n",
       "</div>"
      ],
      "text/plain": [
       "            0                                                  1  \\\n",
       "0          id                                               link   \n",
       "1  1698308935  https://twitter.com/realDonaldTrump/status/169...   \n",
       "2  1701461182  https://twitter.com/realDonaldTrump/status/170...   \n",
       "3  1737479987  https://twitter.com/realDonaldTrump/status/173...   \n",
       "4  1741160716  https://twitter.com/realDonaldTrump/status/174...   \n",
       "\n",
       "                                                   2                    3  \\\n",
       "0                                            content                 date   \n",
       "1  Be sure to tune in and watch Donald Trump on L...  2009-05-04 13:54:25   \n",
       "2  Donald Trump will be appearing on The View tom...  2009-05-04 20:00:10   \n",
       "3  Donald Trump reads Top Ten Financial Tips on L...  2009-05-08 08:38:08   \n",
       "4  New Blog Post: Celebrity Apprentice Finale and...  2009-05-08 15:40:15   \n",
       "\n",
       "          4          5         6         7  \n",
       "0  retweets  favorites  mentions  hashtags  \n",
       "1       510        917       NaN       NaN  \n",
       "2        34        267       NaN       NaN  \n",
       "3        13         19       NaN       NaN  \n",
       "4        11         26       NaN       NaN  "
      ]
     },
     "execution_count": 2,
     "metadata": {},
     "output_type": "execute_result"
    }
   ],
   "source": [
    "df = pd.read_csv('realdonaldtrump.csv', header=None)\n",
    "df.head()"
   ]
  },
  {
   "cell_type": "code",
   "execution_count": 3,
   "id": "31dfad72",
   "metadata": {},
   "outputs": [
    {
     "data": {
      "text/html": [
       "<div>\n",
       "<style scoped>\n",
       "    .dataframe tbody tr th:only-of-type {\n",
       "        vertical-align: middle;\n",
       "    }\n",
       "\n",
       "    .dataframe tbody tr th {\n",
       "        vertical-align: top;\n",
       "    }\n",
       "\n",
       "    .dataframe thead th {\n",
       "        text-align: right;\n",
       "    }\n",
       "</style>\n",
       "<table border=\"1\" class=\"dataframe\">\n",
       "  <thead>\n",
       "    <tr style=\"text-align: right;\">\n",
       "      <th></th>\n",
       "      <th>id</th>\n",
       "      <th>link</th>\n",
       "      <th>content</th>\n",
       "      <th>date</th>\n",
       "      <th>retweets</th>\n",
       "      <th>favorites</th>\n",
       "      <th>mentions</th>\n",
       "      <th>hashtags</th>\n",
       "    </tr>\n",
       "  </thead>\n",
       "  <tbody>\n",
       "    <tr>\n",
       "      <th>0</th>\n",
       "      <td>id</td>\n",
       "      <td>link</td>\n",
       "      <td>content</td>\n",
       "      <td>date</td>\n",
       "      <td>retweets</td>\n",
       "      <td>favorites</td>\n",
       "      <td>mentions</td>\n",
       "      <td>hashtags</td>\n",
       "    </tr>\n",
       "    <tr>\n",
       "      <th>1</th>\n",
       "      <td>1698308935</td>\n",
       "      <td>https://twitter.com/realDonaldTrump/status/169...</td>\n",
       "      <td>Be sure to tune in and watch Donald Trump on L...</td>\n",
       "      <td>2009-05-04 13:54:25</td>\n",
       "      <td>510</td>\n",
       "      <td>917</td>\n",
       "      <td>NaN</td>\n",
       "      <td>NaN</td>\n",
       "    </tr>\n",
       "    <tr>\n",
       "      <th>2</th>\n",
       "      <td>1701461182</td>\n",
       "      <td>https://twitter.com/realDonaldTrump/status/170...</td>\n",
       "      <td>Donald Trump will be appearing on The View tom...</td>\n",
       "      <td>2009-05-04 20:00:10</td>\n",
       "      <td>34</td>\n",
       "      <td>267</td>\n",
       "      <td>NaN</td>\n",
       "      <td>NaN</td>\n",
       "    </tr>\n",
       "    <tr>\n",
       "      <th>3</th>\n",
       "      <td>1737479987</td>\n",
       "      <td>https://twitter.com/realDonaldTrump/status/173...</td>\n",
       "      <td>Donald Trump reads Top Ten Financial Tips on L...</td>\n",
       "      <td>2009-05-08 08:38:08</td>\n",
       "      <td>13</td>\n",
       "      <td>19</td>\n",
       "      <td>NaN</td>\n",
       "      <td>NaN</td>\n",
       "    </tr>\n",
       "    <tr>\n",
       "      <th>4</th>\n",
       "      <td>1741160716</td>\n",
       "      <td>https://twitter.com/realDonaldTrump/status/174...</td>\n",
       "      <td>New Blog Post: Celebrity Apprentice Finale and...</td>\n",
       "      <td>2009-05-08 15:40:15</td>\n",
       "      <td>11</td>\n",
       "      <td>26</td>\n",
       "      <td>NaN</td>\n",
       "      <td>NaN</td>\n",
       "    </tr>\n",
       "  </tbody>\n",
       "</table>\n",
       "</div>"
      ],
      "text/plain": [
       "           id                                               link  \\\n",
       "0          id                                               link   \n",
       "1  1698308935  https://twitter.com/realDonaldTrump/status/169...   \n",
       "2  1701461182  https://twitter.com/realDonaldTrump/status/170...   \n",
       "3  1737479987  https://twitter.com/realDonaldTrump/status/173...   \n",
       "4  1741160716  https://twitter.com/realDonaldTrump/status/174...   \n",
       "\n",
       "                                             content                 date  \\\n",
       "0                                            content                 date   \n",
       "1  Be sure to tune in and watch Donald Trump on L...  2009-05-04 13:54:25   \n",
       "2  Donald Trump will be appearing on The View tom...  2009-05-04 20:00:10   \n",
       "3  Donald Trump reads Top Ten Financial Tips on L...  2009-05-08 08:38:08   \n",
       "4  New Blog Post: Celebrity Apprentice Finale and...  2009-05-08 15:40:15   \n",
       "\n",
       "   retweets  favorites  mentions  hashtags  \n",
       "0  retweets  favorites  mentions  hashtags  \n",
       "1       510        917       NaN       NaN  \n",
       "2        34        267       NaN       NaN  \n",
       "3        13         19       NaN       NaN  \n",
       "4        11         26       NaN       NaN  "
      ]
     },
     "execution_count": 3,
     "metadata": {},
     "output_type": "execute_result"
    }
   ],
   "source": [
    "df = df.rename(columns=df.iloc[0])\n",
    "df.head()"
   ]
  },
  {
   "cell_type": "code",
   "execution_count": 4,
   "id": "a230bc50",
   "metadata": {},
   "outputs": [
    {
     "data": {
      "text/html": [
       "<div>\n",
       "<style scoped>\n",
       "    .dataframe tbody tr th:only-of-type {\n",
       "        vertical-align: middle;\n",
       "    }\n",
       "\n",
       "    .dataframe tbody tr th {\n",
       "        vertical-align: top;\n",
       "    }\n",
       "\n",
       "    .dataframe thead th {\n",
       "        text-align: right;\n",
       "    }\n",
       "</style>\n",
       "<table border=\"1\" class=\"dataframe\">\n",
       "  <thead>\n",
       "    <tr style=\"text-align: right;\">\n",
       "      <th></th>\n",
       "      <th>id</th>\n",
       "      <th>link</th>\n",
       "      <th>content</th>\n",
       "      <th>date</th>\n",
       "      <th>retweets</th>\n",
       "      <th>favorites</th>\n",
       "      <th>mentions</th>\n",
       "      <th>hashtags</th>\n",
       "    </tr>\n",
       "  </thead>\n",
       "  <tbody>\n",
       "    <tr>\n",
       "      <th>1</th>\n",
       "      <td>1698308935</td>\n",
       "      <td>https://twitter.com/realDonaldTrump/status/169...</td>\n",
       "      <td>Be sure to tune in and watch Donald Trump on L...</td>\n",
       "      <td>2009-05-04 13:54:25</td>\n",
       "      <td>510</td>\n",
       "      <td>917</td>\n",
       "      <td>NaN</td>\n",
       "      <td>NaN</td>\n",
       "    </tr>\n",
       "    <tr>\n",
       "      <th>2</th>\n",
       "      <td>1701461182</td>\n",
       "      <td>https://twitter.com/realDonaldTrump/status/170...</td>\n",
       "      <td>Donald Trump will be appearing on The View tom...</td>\n",
       "      <td>2009-05-04 20:00:10</td>\n",
       "      <td>34</td>\n",
       "      <td>267</td>\n",
       "      <td>NaN</td>\n",
       "      <td>NaN</td>\n",
       "    </tr>\n",
       "    <tr>\n",
       "      <th>3</th>\n",
       "      <td>1737479987</td>\n",
       "      <td>https://twitter.com/realDonaldTrump/status/173...</td>\n",
       "      <td>Donald Trump reads Top Ten Financial Tips on L...</td>\n",
       "      <td>2009-05-08 08:38:08</td>\n",
       "      <td>13</td>\n",
       "      <td>19</td>\n",
       "      <td>NaN</td>\n",
       "      <td>NaN</td>\n",
       "    </tr>\n",
       "    <tr>\n",
       "      <th>4</th>\n",
       "      <td>1741160716</td>\n",
       "      <td>https://twitter.com/realDonaldTrump/status/174...</td>\n",
       "      <td>New Blog Post: Celebrity Apprentice Finale and...</td>\n",
       "      <td>2009-05-08 15:40:15</td>\n",
       "      <td>11</td>\n",
       "      <td>26</td>\n",
       "      <td>NaN</td>\n",
       "      <td>NaN</td>\n",
       "    </tr>\n",
       "    <tr>\n",
       "      <th>5</th>\n",
       "      <td>1773561338</td>\n",
       "      <td>https://twitter.com/realDonaldTrump/status/177...</td>\n",
       "      <td>\"My persona will never be that of a wallflower...</td>\n",
       "      <td>2009-05-12 09:07:28</td>\n",
       "      <td>1375</td>\n",
       "      <td>1945</td>\n",
       "      <td>NaN</td>\n",
       "      <td>NaN</td>\n",
       "    </tr>\n",
       "  </tbody>\n",
       "</table>\n",
       "</div>"
      ],
      "text/plain": [
       "           id                                               link  \\\n",
       "1  1698308935  https://twitter.com/realDonaldTrump/status/169...   \n",
       "2  1701461182  https://twitter.com/realDonaldTrump/status/170...   \n",
       "3  1737479987  https://twitter.com/realDonaldTrump/status/173...   \n",
       "4  1741160716  https://twitter.com/realDonaldTrump/status/174...   \n",
       "5  1773561338  https://twitter.com/realDonaldTrump/status/177...   \n",
       "\n",
       "                                             content                 date  \\\n",
       "1  Be sure to tune in and watch Donald Trump on L...  2009-05-04 13:54:25   \n",
       "2  Donald Trump will be appearing on The View tom...  2009-05-04 20:00:10   \n",
       "3  Donald Trump reads Top Ten Financial Tips on L...  2009-05-08 08:38:08   \n",
       "4  New Blog Post: Celebrity Apprentice Finale and...  2009-05-08 15:40:15   \n",
       "5  \"My persona will never be that of a wallflower...  2009-05-12 09:07:28   \n",
       "\n",
       "  retweets favorites mentions hashtags  \n",
       "1      510       917      NaN      NaN  \n",
       "2       34       267      NaN      NaN  \n",
       "3       13        19      NaN      NaN  \n",
       "4       11        26      NaN      NaN  \n",
       "5     1375      1945      NaN      NaN  "
      ]
     },
     "execution_count": 4,
     "metadata": {},
     "output_type": "execute_result"
    }
   ],
   "source": [
    "df = df.drop(df.index[0])\n",
    "df.head()"
   ]
  },
  {
   "cell_type": "code",
   "execution_count": 5,
   "id": "25cd8d37",
   "metadata": {},
   "outputs": [
    {
     "name": "stdout",
     "output_type": "stream",
     "text": [
      "<class 'pandas.core.frame.DataFrame'>\n",
      "RangeIndex: 43352 entries, 1 to 43352\n",
      "Data columns (total 8 columns):\n",
      " #   Column     Non-Null Count  Dtype \n",
      "---  ------     --------------  ----- \n",
      " 0   id         43352 non-null  object\n",
      " 1   link       43352 non-null  object\n",
      " 2   content    43352 non-null  object\n",
      " 3   date       43352 non-null  object\n",
      " 4   retweets   43352 non-null  object\n",
      " 5   favorites  43352 non-null  object\n",
      " 6   mentions   20386 non-null  object\n",
      " 7   hashtags   5583 non-null   object\n",
      "dtypes: object(8)\n",
      "memory usage: 2.6+ MB\n"
     ]
    }
   ],
   "source": [
    "df.info()     #mentions, hashtags 결측값 확인."
   ]
  },
  {
   "cell_type": "code",
   "execution_count": 6,
   "id": "aafa1cc9",
   "metadata": {},
   "outputs": [
    {
     "data": {
      "text/plain": [
       "@realDonaldTrump                                1230\n",
       "@BarackObama                                     541\n",
       "@foxandfriends                                   297\n",
       "@FoxNews                                         205\n",
       "@MittRomney                                      159\n",
       "                                                ... \n",
       "@KenBlalock,@realDonaldTrump                       1\n",
       "@dcolon2112                                        1\n",
       "@seancourt,@realDonaldTrump,@realDonaldTrump       1\n",
       "@AAndreakis,@realDonaldTrump                       1\n",
       "@LeeZeldin                                         1\n",
       "Name: mentions, Length: 12787, dtype: int64"
      ]
     },
     "execution_count": 6,
     "metadata": {},
     "output_type": "execute_result"
    }
   ],
   "source": [
    "df['mentions'].value_counts()"
   ]
  },
  {
   "cell_type": "code",
   "execution_count": 7,
   "id": "fe858daf",
   "metadata": {},
   "outputs": [
    {
     "data": {
      "text/plain": [
       "#Trump2016                 380\n",
       "#CelebApprentice           246\n",
       "#MakeAmericaGreatAgain     184\n",
       "#MAGA                      137\n",
       "#CelebrityApprentice       116\n",
       "                          ... \n",
       "#BestShowersEver             1\n",
       "#CololombiaMissUniverso      1\n",
       "#yourfired,#trumprocks       1\n",
       "#savior                      1\n",
       "#NHSENhttps                  1\n",
       "Name: hashtags, Length: 2549, dtype: int64"
      ]
     },
     "execution_count": 7,
     "metadata": {},
     "output_type": "execute_result"
    }
   ],
   "source": [
    "df['hashtags'].value_counts()"
   ]
  },
  {
   "cell_type": "code",
   "execution_count": 8,
   "id": "06995a40",
   "metadata": {},
   "outputs": [
    {
     "data": {
      "text/html": [
       "<div>\n",
       "<style scoped>\n",
       "    .dataframe tbody tr th:only-of-type {\n",
       "        vertical-align: middle;\n",
       "    }\n",
       "\n",
       "    .dataframe tbody tr th {\n",
       "        vertical-align: top;\n",
       "    }\n",
       "\n",
       "    .dataframe thead th {\n",
       "        text-align: right;\n",
       "    }\n",
       "</style>\n",
       "<table border=\"1\" class=\"dataframe\">\n",
       "  <thead>\n",
       "    <tr style=\"text-align: right;\">\n",
       "      <th></th>\n",
       "      <th>content</th>\n",
       "      <th>date</th>\n",
       "      <th>retweets</th>\n",
       "      <th>favorites</th>\n",
       "      <th>mentions</th>\n",
       "      <th>hashtags</th>\n",
       "    </tr>\n",
       "  </thead>\n",
       "  <tbody>\n",
       "    <tr>\n",
       "      <th>1</th>\n",
       "      <td>Be sure to tune in and watch Donald Trump on L...</td>\n",
       "      <td>2009-05-04 13:54:25</td>\n",
       "      <td>510</td>\n",
       "      <td>917</td>\n",
       "      <td>NaN</td>\n",
       "      <td>NaN</td>\n",
       "    </tr>\n",
       "    <tr>\n",
       "      <th>2</th>\n",
       "      <td>Donald Trump will be appearing on The View tom...</td>\n",
       "      <td>2009-05-04 20:00:10</td>\n",
       "      <td>34</td>\n",
       "      <td>267</td>\n",
       "      <td>NaN</td>\n",
       "      <td>NaN</td>\n",
       "    </tr>\n",
       "    <tr>\n",
       "      <th>3</th>\n",
       "      <td>Donald Trump reads Top Ten Financial Tips on L...</td>\n",
       "      <td>2009-05-08 08:38:08</td>\n",
       "      <td>13</td>\n",
       "      <td>19</td>\n",
       "      <td>NaN</td>\n",
       "      <td>NaN</td>\n",
       "    </tr>\n",
       "    <tr>\n",
       "      <th>4</th>\n",
       "      <td>New Blog Post: Celebrity Apprentice Finale and...</td>\n",
       "      <td>2009-05-08 15:40:15</td>\n",
       "      <td>11</td>\n",
       "      <td>26</td>\n",
       "      <td>NaN</td>\n",
       "      <td>NaN</td>\n",
       "    </tr>\n",
       "    <tr>\n",
       "      <th>5</th>\n",
       "      <td>\"My persona will never be that of a wallflower...</td>\n",
       "      <td>2009-05-12 09:07:28</td>\n",
       "      <td>1375</td>\n",
       "      <td>1945</td>\n",
       "      <td>NaN</td>\n",
       "      <td>NaN</td>\n",
       "    </tr>\n",
       "  </tbody>\n",
       "</table>\n",
       "</div>"
      ],
      "text/plain": [
       "                                             content                 date  \\\n",
       "1  Be sure to tune in and watch Donald Trump on L...  2009-05-04 13:54:25   \n",
       "2  Donald Trump will be appearing on The View tom...  2009-05-04 20:00:10   \n",
       "3  Donald Trump reads Top Ten Financial Tips on L...  2009-05-08 08:38:08   \n",
       "4  New Blog Post: Celebrity Apprentice Finale and...  2009-05-08 15:40:15   \n",
       "5  \"My persona will never be that of a wallflower...  2009-05-12 09:07:28   \n",
       "\n",
       "  retweets favorites mentions hashtags  \n",
       "1      510       917      NaN      NaN  \n",
       "2       34       267      NaN      NaN  \n",
       "3       13        19      NaN      NaN  \n",
       "4       11        26      NaN      NaN  \n",
       "5     1375      1945      NaN      NaN  "
      ]
     },
     "execution_count": 8,
     "metadata": {},
     "output_type": "execute_result"
    }
   ],
   "source": [
    "df = df.drop(['id','link'], axis=1)\n",
    "df.head()"
   ]
  },
  {
   "cell_type": "code",
   "execution_count": 9,
   "id": "d13d21fb",
   "metadata": {},
   "outputs": [
    {
     "name": "stdout",
     "output_type": "stream",
     "text": [
      "데이터 갯수: 43352\n",
      "첫 3개의 데이터 ['13:54:25', '20:00:10', '08:38:08']\n"
     ]
    },
    {
     "data": {
      "text/html": [
       "<div>\n",
       "<style scoped>\n",
       "    .dataframe tbody tr th:only-of-type {\n",
       "        vertical-align: middle;\n",
       "    }\n",
       "\n",
       "    .dataframe tbody tr th {\n",
       "        vertical-align: top;\n",
       "    }\n",
       "\n",
       "    .dataframe thead th {\n",
       "        text-align: right;\n",
       "    }\n",
       "</style>\n",
       "<table border=\"1\" class=\"dataframe\">\n",
       "  <thead>\n",
       "    <tr style=\"text-align: right;\">\n",
       "      <th></th>\n",
       "      <th>content</th>\n",
       "      <th>date</th>\n",
       "      <th>retweets</th>\n",
       "      <th>favorites</th>\n",
       "      <th>mentions</th>\n",
       "      <th>hashtags</th>\n",
       "      <th>time</th>\n",
       "    </tr>\n",
       "  </thead>\n",
       "  <tbody>\n",
       "    <tr>\n",
       "      <th>1</th>\n",
       "      <td>Be sure to tune in and watch Donald Trump on L...</td>\n",
       "      <td>2009-05-04 13:54:25</td>\n",
       "      <td>510</td>\n",
       "      <td>917</td>\n",
       "      <td>NaN</td>\n",
       "      <td>NaN</td>\n",
       "      <td>13:54:25</td>\n",
       "    </tr>\n",
       "    <tr>\n",
       "      <th>2</th>\n",
       "      <td>Donald Trump will be appearing on The View tom...</td>\n",
       "      <td>2009-05-04 20:00:10</td>\n",
       "      <td>34</td>\n",
       "      <td>267</td>\n",
       "      <td>NaN</td>\n",
       "      <td>NaN</td>\n",
       "      <td>20:00:10</td>\n",
       "    </tr>\n",
       "    <tr>\n",
       "      <th>3</th>\n",
       "      <td>Donald Trump reads Top Ten Financial Tips on L...</td>\n",
       "      <td>2009-05-08 08:38:08</td>\n",
       "      <td>13</td>\n",
       "      <td>19</td>\n",
       "      <td>NaN</td>\n",
       "      <td>NaN</td>\n",
       "      <td>08:38:08</td>\n",
       "    </tr>\n",
       "    <tr>\n",
       "      <th>4</th>\n",
       "      <td>New Blog Post: Celebrity Apprentice Finale and...</td>\n",
       "      <td>2009-05-08 15:40:15</td>\n",
       "      <td>11</td>\n",
       "      <td>26</td>\n",
       "      <td>NaN</td>\n",
       "      <td>NaN</td>\n",
       "      <td>15:40:15</td>\n",
       "    </tr>\n",
       "    <tr>\n",
       "      <th>5</th>\n",
       "      <td>\"My persona will never be that of a wallflower...</td>\n",
       "      <td>2009-05-12 09:07:28</td>\n",
       "      <td>1375</td>\n",
       "      <td>1945</td>\n",
       "      <td>NaN</td>\n",
       "      <td>NaN</td>\n",
       "      <td>09:07:28</td>\n",
       "    </tr>\n",
       "  </tbody>\n",
       "</table>\n",
       "</div>"
      ],
      "text/plain": [
       "                                             content                 date  \\\n",
       "1  Be sure to tune in and watch Donald Trump on L...  2009-05-04 13:54:25   \n",
       "2  Donald Trump will be appearing on The View tom...  2009-05-04 20:00:10   \n",
       "3  Donald Trump reads Top Ten Financial Tips on L...  2009-05-08 08:38:08   \n",
       "4  New Blog Post: Celebrity Apprentice Finale and...  2009-05-08 15:40:15   \n",
       "5  \"My persona will never be that of a wallflower...  2009-05-12 09:07:28   \n",
       "\n",
       "  retweets favorites mentions hashtags      time  \n",
       "1      510       917      NaN      NaN  13:54:25  \n",
       "2       34       267      NaN      NaN  20:00:10  \n",
       "3       13        19      NaN      NaN  08:38:08  \n",
       "4       11        26      NaN      NaN  15:40:15  \n",
       "5     1375      1945      NaN      NaN  09:07:28  "
      ]
     },
     "execution_count": 9,
     "metadata": {},
     "output_type": "execute_result"
    }
   ],
   "source": [
    "result = []\n",
    "for text in df['date']:\n",
    "    cleaned_text = text.split(' ')[1]\n",
    "    result.append(cleaned_text)\n",
    "\n",
    "df['time'] = result   \n",
    "    \n",
    "print(\"데이터 갯수:\", len(result))\n",
    "print(\"첫 3개의 데이터\", result[:3])\n",
    "df.head()"
   ]
  },
  {
   "cell_type": "code",
   "execution_count": 10,
   "id": "d21cfcc5",
   "metadata": {},
   "outputs": [
    {
     "name": "stdout",
     "output_type": "stream",
     "text": [
      "데이터 갯수: 43352\n",
      "첫 3개의 데이터 ['2009-05-04', '2009-05-04', '2009-05-08']\n"
     ]
    },
    {
     "data": {
      "text/html": [
       "<div>\n",
       "<style scoped>\n",
       "    .dataframe tbody tr th:only-of-type {\n",
       "        vertical-align: middle;\n",
       "    }\n",
       "\n",
       "    .dataframe tbody tr th {\n",
       "        vertical-align: top;\n",
       "    }\n",
       "\n",
       "    .dataframe thead th {\n",
       "        text-align: right;\n",
       "    }\n",
       "</style>\n",
       "<table border=\"1\" class=\"dataframe\">\n",
       "  <thead>\n",
       "    <tr style=\"text-align: right;\">\n",
       "      <th></th>\n",
       "      <th>content</th>\n",
       "      <th>date</th>\n",
       "      <th>retweets</th>\n",
       "      <th>favorites</th>\n",
       "      <th>mentions</th>\n",
       "      <th>hashtags</th>\n",
       "      <th>time</th>\n",
       "    </tr>\n",
       "  </thead>\n",
       "  <tbody>\n",
       "    <tr>\n",
       "      <th>1</th>\n",
       "      <td>Be sure to tune in and watch Donald Trump on L...</td>\n",
       "      <td>2009-05-04</td>\n",
       "      <td>510</td>\n",
       "      <td>917</td>\n",
       "      <td>NaN</td>\n",
       "      <td>NaN</td>\n",
       "      <td>13:54:25</td>\n",
       "    </tr>\n",
       "    <tr>\n",
       "      <th>2</th>\n",
       "      <td>Donald Trump will be appearing on The View tom...</td>\n",
       "      <td>2009-05-04</td>\n",
       "      <td>34</td>\n",
       "      <td>267</td>\n",
       "      <td>NaN</td>\n",
       "      <td>NaN</td>\n",
       "      <td>20:00:10</td>\n",
       "    </tr>\n",
       "    <tr>\n",
       "      <th>3</th>\n",
       "      <td>Donald Trump reads Top Ten Financial Tips on L...</td>\n",
       "      <td>2009-05-08</td>\n",
       "      <td>13</td>\n",
       "      <td>19</td>\n",
       "      <td>NaN</td>\n",
       "      <td>NaN</td>\n",
       "      <td>08:38:08</td>\n",
       "    </tr>\n",
       "    <tr>\n",
       "      <th>4</th>\n",
       "      <td>New Blog Post: Celebrity Apprentice Finale and...</td>\n",
       "      <td>2009-05-08</td>\n",
       "      <td>11</td>\n",
       "      <td>26</td>\n",
       "      <td>NaN</td>\n",
       "      <td>NaN</td>\n",
       "      <td>15:40:15</td>\n",
       "    </tr>\n",
       "    <tr>\n",
       "      <th>5</th>\n",
       "      <td>\"My persona will never be that of a wallflower...</td>\n",
       "      <td>2009-05-12</td>\n",
       "      <td>1375</td>\n",
       "      <td>1945</td>\n",
       "      <td>NaN</td>\n",
       "      <td>NaN</td>\n",
       "      <td>09:07:28</td>\n",
       "    </tr>\n",
       "  </tbody>\n",
       "</table>\n",
       "</div>"
      ],
      "text/plain": [
       "                                             content        date retweets  \\\n",
       "1  Be sure to tune in and watch Donald Trump on L...  2009-05-04      510   \n",
       "2  Donald Trump will be appearing on The View tom...  2009-05-04       34   \n",
       "3  Donald Trump reads Top Ten Financial Tips on L...  2009-05-08       13   \n",
       "4  New Blog Post: Celebrity Apprentice Finale and...  2009-05-08       11   \n",
       "5  \"My persona will never be that of a wallflower...  2009-05-12     1375   \n",
       "\n",
       "  favorites mentions hashtags      time  \n",
       "1       917      NaN      NaN  13:54:25  \n",
       "2       267      NaN      NaN  20:00:10  \n",
       "3        19      NaN      NaN  08:38:08  \n",
       "4        26      NaN      NaN  15:40:15  \n",
       "5      1945      NaN      NaN  09:07:28  "
      ]
     },
     "execution_count": 10,
     "metadata": {},
     "output_type": "execute_result"
    }
   ],
   "source": [
    "result = []\n",
    "for text in df['date']:\n",
    "    cleaned_text = text.split(' ')[0]\n",
    "    result.append(cleaned_text)\n",
    "\n",
    "df['date'] = result   \n",
    "    \n",
    "print(\"데이터 갯수:\", len(result))\n",
    "print(\"첫 3개의 데이터\", result[:3])\n",
    "df.head()"
   ]
  },
  {
   "cell_type": "code",
   "execution_count": 11,
   "id": "f5a28997",
   "metadata": {},
   "outputs": [
    {
     "data": {
      "text/html": [
       "<div>\n",
       "<style scoped>\n",
       "    .dataframe tbody tr th:only-of-type {\n",
       "        vertical-align: middle;\n",
       "    }\n",
       "\n",
       "    .dataframe tbody tr th {\n",
       "        vertical-align: top;\n",
       "    }\n",
       "\n",
       "    .dataframe thead th {\n",
       "        text-align: right;\n",
       "    }\n",
       "</style>\n",
       "<table border=\"1\" class=\"dataframe\">\n",
       "  <thead>\n",
       "    <tr style=\"text-align: right;\">\n",
       "      <th></th>\n",
       "      <th>content</th>\n",
       "      <th>date</th>\n",
       "      <th>retweets</th>\n",
       "      <th>favorites</th>\n",
       "      <th>mentions</th>\n",
       "      <th>hashtags</th>\n",
       "      <th>time</th>\n",
       "    </tr>\n",
       "  </thead>\n",
       "  <tbody>\n",
       "    <tr>\n",
       "      <th>1</th>\n",
       "      <td>Be sure to tune in and watch Donald Trump on L...</td>\n",
       "      <td>2009-05-04</td>\n",
       "      <td>510</td>\n",
       "      <td>917</td>\n",
       "      <td>NaN</td>\n",
       "      <td>NaN</td>\n",
       "      <td>13:54:25</td>\n",
       "    </tr>\n",
       "    <tr>\n",
       "      <th>2</th>\n",
       "      <td>Donald Trump will be appearing on The View tom...</td>\n",
       "      <td>2009-05-04</td>\n",
       "      <td>34</td>\n",
       "      <td>267</td>\n",
       "      <td>NaN</td>\n",
       "      <td>NaN</td>\n",
       "      <td>20:00:10</td>\n",
       "    </tr>\n",
       "    <tr>\n",
       "      <th>3</th>\n",
       "      <td>Donald Trump reads Top Ten Financial Tips on L...</td>\n",
       "      <td>2009-05-08</td>\n",
       "      <td>13</td>\n",
       "      <td>19</td>\n",
       "      <td>NaN</td>\n",
       "      <td>NaN</td>\n",
       "      <td>08:38:08</td>\n",
       "    </tr>\n",
       "    <tr>\n",
       "      <th>4</th>\n",
       "      <td>New Blog Post: Celebrity Apprentice Finale and...</td>\n",
       "      <td>2009-05-08</td>\n",
       "      <td>11</td>\n",
       "      <td>26</td>\n",
       "      <td>NaN</td>\n",
       "      <td>NaN</td>\n",
       "      <td>15:40:15</td>\n",
       "    </tr>\n",
       "    <tr>\n",
       "      <th>5</th>\n",
       "      <td>\"My persona will never be that of a wallflower...</td>\n",
       "      <td>2009-05-12</td>\n",
       "      <td>1375</td>\n",
       "      <td>1945</td>\n",
       "      <td>NaN</td>\n",
       "      <td>NaN</td>\n",
       "      <td>09:07:28</td>\n",
       "    </tr>\n",
       "  </tbody>\n",
       "</table>\n",
       "</div>"
      ],
      "text/plain": [
       "                                             content       date retweets  \\\n",
       "1  Be sure to tune in and watch Donald Trump on L... 2009-05-04      510   \n",
       "2  Donald Trump will be appearing on The View tom... 2009-05-04       34   \n",
       "3  Donald Trump reads Top Ten Financial Tips on L... 2009-05-08       13   \n",
       "4  New Blog Post: Celebrity Apprentice Finale and... 2009-05-08       11   \n",
       "5  \"My persona will never be that of a wallflower... 2009-05-12     1375   \n",
       "\n",
       "  favorites mentions hashtags      time  \n",
       "1       917      NaN      NaN  13:54:25  \n",
       "2       267      NaN      NaN  20:00:10  \n",
       "3        19      NaN      NaN  08:38:08  \n",
       "4        26      NaN      NaN  15:40:15  \n",
       "5      1945      NaN      NaN  09:07:28  "
      ]
     },
     "execution_count": 11,
     "metadata": {},
     "output_type": "execute_result"
    }
   ],
   "source": [
    "df['date'] = pd.to_datetime(df['date'], format= '%Y-%m-%d', errors='raise')\n",
    "df.head()"
   ]
  },
  {
   "cell_type": "code",
   "execution_count": 12,
   "id": "e1d2a2bf",
   "metadata": {},
   "outputs": [
    {
     "data": {
      "text/plain": [
       "2009-12-31      56\n",
       "2010-12-31     143\n",
       "2011-12-31     869\n",
       "2012-12-31    4193\n",
       "2013-12-31    8203\n",
       "2014-12-31    6001\n",
       "2015-12-31    7707\n",
       "2016-12-31    3945\n",
       "2017-12-31    2231\n",
       "2018-12-31    3001\n",
       "2019-12-31    4590\n",
       "2020-12-31    2413\n",
       "Freq: A-DEC, Name: date, dtype: int64"
      ]
     },
     "execution_count": 12,
     "metadata": {},
     "output_type": "execute_result"
    }
   ],
   "source": [
    "df['date'].value_counts().resample('Y').sum()"
   ]
  },
  {
   "cell_type": "code",
   "execution_count": 13,
   "id": "b020e2bc",
   "metadata": {},
   "outputs": [
    {
     "data": {
      "text/plain": [
       "<AxesSubplot:>"
      ]
     },
     "execution_count": 13,
     "metadata": {},
     "output_type": "execute_result"
    },
    {
     "data": {
      "image/png": "[encoded data removed]",
      "text/plain": [
       "<Figure size 432x288 with 1 Axes>"
      ]
     },
     "metadata": {
      "needs_background": "light"
     },
     "output_type": "display_data"
    }
   ],
   "source": [
    "df['date'].value_counts().resample('Y').sum().plot.line()"
   ]
  },
  {
   "cell_type": "code",
   "execution_count": 14,
   "id": "487fbef4",
   "metadata": {},
   "outputs": [
    {
     "data": {
      "text/plain": [
       "<AxesSubplot:>"
      ]
     },
     "execution_count": 14,
     "metadata": {},
     "output_type": "execute_result"
    },
    {
     "data": {
      "image/png": "[encoded data removed]",
      "text/plain": [
       "<Figure size 432x288 with 1 Axes>"
      ]
     },
     "metadata": {
      "needs_background": "light"
     },
     "output_type": "display_data"
    }
   ],
   "source": [
    "df['date'].value_counts().resample('m').sum().plot.line()"
   ]
  },
  {
   "cell_type": "code",
   "execution_count": 15,
   "id": "4fab4d3e",
   "metadata": {},
   "outputs": [
    {
     "data": {
      "text/plain": [
       "39674    9999\n",
       "30563    9998\n",
       "30471    9994\n",
       "42521    9991\n",
       "35682    9991\n",
       "33028    9990\n",
       "35672    9990\n",
       "23908     999\n",
       "23857     999\n",
       "25327     999\n",
       "Name: retweets, dtype: object"
      ]
     },
     "execution_count": 15,
     "metadata": {},
     "output_type": "execute_result"
    }
   ],
   "source": [
    "retweets=df['retweets'].sort_values(ascending=False)\n",
    "retweets_top10 = retweets.head(10)\n",
    "retweets_top10"
   ]
  },
  {
   "cell_type": "code",
   "execution_count": 16,
   "id": "920ecd0e",
   "metadata": {},
   "outputs": [
    {
     "data": {
      "text/plain": [
       "39674    9999\n",
       "30563    9998\n",
       "30471    9994\n",
       "42521    9991\n",
       "35682    9991\n",
       "33028    9990\n",
       "35672    9990\n",
       "Name: retweets, dtype: object"
      ]
     },
     "execution_count": 16,
     "metadata": {},
     "output_type": "execute_result"
    }
   ],
   "source": [
    "top7 = retweets.head(7)\n",
    "top7"
   ]
  },
  {
   "cell_type": "code",
   "execution_count": 17,
   "id": "45820c20",
   "metadata": {},
   "outputs": [
    {
     "data": {
      "text/html": [
       "<div>\n",
       "<style scoped>\n",
       "    .dataframe tbody tr th:only-of-type {\n",
       "        vertical-align: middle;\n",
       "    }\n",
       "\n",
       "    .dataframe tbody tr th {\n",
       "        vertical-align: top;\n",
       "    }\n",
       "\n",
       "    .dataframe thead th {\n",
       "        text-align: right;\n",
       "    }\n",
       "</style>\n",
       "<table border=\"1\" class=\"dataframe\">\n",
       "  <thead>\n",
       "    <tr style=\"text-align: right;\">\n",
       "      <th></th>\n",
       "      <th>content</th>\n",
       "      <th>date</th>\n",
       "      <th>retweets</th>\n",
       "      <th>favorites</th>\n",
       "      <th>mentions</th>\n",
       "      <th>hashtags</th>\n",
       "      <th>time</th>\n",
       "    </tr>\n",
       "  </thead>\n",
       "  <tbody>\n",
       "    <tr>\n",
       "      <th>39674</th>\n",
       "      <td>....If there is a Runoff in Louisiana, you wil...</td>\n",
       "      <td>2019-10-08</td>\n",
       "      <td>9999</td>\n",
       "      <td>42908</td>\n",
       "      <td>NaN</td>\n",
       "      <td>NaN</td>\n",
       "      <td>20:43:15</td>\n",
       "    </tr>\n",
       "    <tr>\n",
       "      <th>30563</th>\n",
       "      <td>Yet more evidence of a media-rigged election:h...</td>\n",
       "      <td>2016-10-17</td>\n",
       "      <td>9998</td>\n",
       "      <td>15596</td>\n",
       "      <td>NaN</td>\n",
       "      <td>NaN</td>\n",
       "      <td>17:46:12</td>\n",
       "    </tr>\n",
       "    <tr>\n",
       "      <th>30471</th>\n",
       "      <td>Thank you for all of the great comments on the...</td>\n",
       "      <td>2016-10-10</td>\n",
       "      <td>9994</td>\n",
       "      <td>42123</td>\n",
       "      <td>NaN</td>\n",
       "      <td>NaN</td>\n",
       "      <td>12:08:21</td>\n",
       "    </tr>\n",
       "    <tr>\n",
       "      <th>42521</th>\n",
       "      <td>Thank you!https://twitter.com/GOPChairwoman/st...</td>\n",
       "      <td>2020-05-03</td>\n",
       "      <td>9991</td>\n",
       "      <td>49591</td>\n",
       "      <td>NaN</td>\n",
       "      <td>NaN</td>\n",
       "      <td>07:52:37</td>\n",
       "    </tr>\n",
       "    <tr>\n",
       "      <th>35682</th>\n",
       "      <td>On my way - see you all shortly! http://Vote.G...</td>\n",
       "      <td>2018-10-19</td>\n",
       "      <td>9991</td>\n",
       "      <td>49207</td>\n",
       "      <td>NaN</td>\n",
       "      <td>NaN</td>\n",
       "      <td>20:23:25</td>\n",
       "    </tr>\n",
       "    <tr>\n",
       "      <th>33028</th>\n",
       "      <td>Anyone who doubts the strength or determinatio...</td>\n",
       "      <td>2017-11-07</td>\n",
       "      <td>9990</td>\n",
       "      <td>45674</td>\n",
       "      <td>NaN</td>\n",
       "      <td>NaN</td>\n",
       "      <td>21:14:34</td>\n",
       "    </tr>\n",
       "    <tr>\n",
       "      <th>35672</th>\n",
       "      <td>Thank you Missoula, Montana. Get out and VOTE ...</td>\n",
       "      <td>2018-10-18</td>\n",
       "      <td>9990</td>\n",
       "      <td>41634</td>\n",
       "      <td>@MattForMontana,@GregForMontana</td>\n",
       "      <td>#MAGA</td>\n",
       "      <td>20:54:52</td>\n",
       "    </tr>\n",
       "  </tbody>\n",
       "</table>\n",
       "</div>"
      ],
      "text/plain": [
       "                                                 content       date retweets  \\\n",
       "39674  ....If there is a Runoff in Louisiana, you wil... 2019-10-08     9999   \n",
       "30563  Yet more evidence of a media-rigged election:h... 2016-10-17     9998   \n",
       "30471  Thank you for all of the great comments on the... 2016-10-10     9994   \n",
       "42521  Thank you!https://twitter.com/GOPChairwoman/st... 2020-05-03     9991   \n",
       "35682  On my way - see you all shortly! http://Vote.G... 2018-10-19     9991   \n",
       "33028  Anyone who doubts the strength or determinatio... 2017-11-07     9990   \n",
       "35672  Thank you Missoula, Montana. Get out and VOTE ... 2018-10-18     9990   \n",
       "\n",
       "      favorites                         mentions hashtags      time  \n",
       "39674     42908                              NaN      NaN  20:43:15  \n",
       "30563     15596                              NaN      NaN  17:46:12  \n",
       "30471     42123                              NaN      NaN  12:08:21  \n",
       "42521     49591                              NaN      NaN  07:52:37  \n",
       "35682     49207                              NaN      NaN  20:23:25  \n",
       "33028     45674                              NaN      NaN  21:14:34  \n",
       "35672     41634  @MattForMontana,@GregForMontana    #MAGA  20:54:52  "
      ]
     },
     "execution_count": 17,
     "metadata": {},
     "output_type": "execute_result"
    }
   ],
   "source": [
    "df.sort_values('retweets', ascending=False).iloc[:7]"
   ]
  },
  {
   "cell_type": "code",
   "execution_count": 18,
   "id": "7d379153",
   "metadata": {},
   "outputs": [
    {
     "data": {
      "text/plain": [
       "34205    99989\n",
       "39220    99989\n",
       "42884    99988\n",
       "41207    99982\n",
       "28976     9998\n",
       "35154    99978\n",
       "31605    99977\n",
       "36954    99970\n",
       "3676      9997\n",
       "38364    99967\n",
       "Name: favorites, dtype: object"
      ]
     },
     "execution_count": 18,
     "metadata": {},
     "output_type": "execute_result"
    }
   ],
   "source": [
    "favorites=df['favorites'].sort_values(ascending=False)\n",
    "favorites_top10 = favorites.head(10)\n",
    "favorites_top10"
   ]
  },
  {
   "cell_type": "code",
   "execution_count": 19,
   "id": "39dc6c6e",
   "metadata": {},
   "outputs": [
    {
     "data": {
      "text/html": [
       "<div>\n",
       "<style scoped>\n",
       "    .dataframe tbody tr th:only-of-type {\n",
       "        vertical-align: middle;\n",
       "    }\n",
       "\n",
       "    .dataframe tbody tr th {\n",
       "        vertical-align: top;\n",
       "    }\n",
       "\n",
       "    .dataframe thead th {\n",
       "        text-align: right;\n",
       "    }\n",
       "</style>\n",
       "<table border=\"1\" class=\"dataframe\">\n",
       "  <thead>\n",
       "    <tr style=\"text-align: right;\">\n",
       "      <th></th>\n",
       "      <th>content</th>\n",
       "      <th>date</th>\n",
       "      <th>retweets</th>\n",
       "      <th>favorites</th>\n",
       "      <th>mentions</th>\n",
       "      <th>hashtags</th>\n",
       "      <th>time</th>\n",
       "    </tr>\n",
       "  </thead>\n",
       "  <tbody>\n",
       "    <tr>\n",
       "      <th>34205</th>\n",
       "      <td>The Wall Street Journal asks, “WHERE IN THE WO...</td>\n",
       "      <td>2018-05-21</td>\n",
       "      <td>22188</td>\n",
       "      <td>99989</td>\n",
       "      <td>NaN</td>\n",
       "      <td>NaN</td>\n",
       "      <td>07:51:20</td>\n",
       "    </tr>\n",
       "    <tr>\n",
       "      <th>39220</th>\n",
       "      <td>KEEP AMERICA GREAT!</td>\n",
       "      <td>2019-09-14</td>\n",
       "      <td>18566</td>\n",
       "      <td>99989</td>\n",
       "      <td>NaN</td>\n",
       "      <td>NaN</td>\n",
       "      <td>08:10:05</td>\n",
       "    </tr>\n",
       "    <tr>\n",
       "      <th>42884</th>\n",
       "      <td>A blow to her head? Body found under his desk?...</td>\n",
       "      <td>2020-05-23</td>\n",
       "      <td>33284</td>\n",
       "      <td>99988</td>\n",
       "      <td>NaN</td>\n",
       "      <td>NaN</td>\n",
       "      <td>19:05:58</td>\n",
       "    </tr>\n",
       "    <tr>\n",
       "      <th>41207</th>\n",
       "      <td>Thank you Nick!https://twitter.com/toddstarnes...</td>\n",
       "      <td>2020-01-25</td>\n",
       "      <td>19715</td>\n",
       "      <td>99982</td>\n",
       "      <td>NaN</td>\n",
       "      <td>NaN</td>\n",
       "      <td>13:44:30</td>\n",
       "    </tr>\n",
       "    <tr>\n",
       "      <th>28976</th>\n",
       "      <td>Crooked Hillary can't close the deal with Bern...</td>\n",
       "      <td>2016-05-17</td>\n",
       "      <td>3070</td>\n",
       "      <td>9998</td>\n",
       "      <td>NaN</td>\n",
       "      <td>NaN</td>\n",
       "      <td>07:31:53</td>\n",
       "    </tr>\n",
       "    <tr>\n",
       "      <th>35154</th>\n",
       "      <td>“Mainstream Media tries to rewrite history to ...</td>\n",
       "      <td>2018-08-26</td>\n",
       "      <td>25128</td>\n",
       "      <td>99978</td>\n",
       "      <td>@WashTimes</td>\n",
       "      <td>NaN</td>\n",
       "      <td>17:01:33</td>\n",
       "    </tr>\n",
       "    <tr>\n",
       "      <th>31605</th>\n",
       "      <td>Melania and I are honored to light up the @ Wh...</td>\n",
       "      <td>2017-04-02</td>\n",
       "      <td>21335</td>\n",
       "      <td>99977</td>\n",
       "      <td>@WhiteHouse</td>\n",
       "      <td>#WorldAutismAwarenessDay,#LIUB</td>\n",
       "      <td>19:58:29</td>\n",
       "    </tr>\n",
       "    <tr>\n",
       "      <th>36954</th>\n",
       "      <td>....should never have been appointed and there...</td>\n",
       "      <td>2019-03-15</td>\n",
       "      <td>23150</td>\n",
       "      <td>99970</td>\n",
       "      <td>NaN</td>\n",
       "      <td>NaN</td>\n",
       "      <td>08:55:16</td>\n",
       "    </tr>\n",
       "    <tr>\n",
       "      <th>3676</th>\n",
       "      <td>Why does Barack Obama's ring have an arabic in...</td>\n",
       "      <td>2012-10-11</td>\n",
       "      <td>9367</td>\n",
       "      <td>9997</td>\n",
       "      <td>NaN</td>\n",
       "      <td>NaN</td>\n",
       "      <td>15:11:55</td>\n",
       "    </tr>\n",
       "    <tr>\n",
       "      <th>38364</th>\n",
       "      <td>....of which was squandered away or wasted, ne...</td>\n",
       "      <td>2019-07-18</td>\n",
       "      <td>21130</td>\n",
       "      <td>99967</td>\n",
       "      <td>NaN</td>\n",
       "      <td>NaN</td>\n",
       "      <td>09:54:15</td>\n",
       "    </tr>\n",
       "  </tbody>\n",
       "</table>\n",
       "</div>"
      ],
      "text/plain": [
       "                                                 content       date retweets  \\\n",
       "34205  The Wall Street Journal asks, “WHERE IN THE WO... 2018-05-21    22188   \n",
       "39220                                KEEP AMERICA GREAT! 2019-09-14    18566   \n",
       "42884  A blow to her head? Body found under his desk?... 2020-05-23    33284   \n",
       "41207  Thank you Nick!https://twitter.com/toddstarnes... 2020-01-25    19715   \n",
       "28976  Crooked Hillary can't close the deal with Bern... 2016-05-17     3070   \n",
       "35154  “Mainstream Media tries to rewrite history to ... 2018-08-26    25128   \n",
       "31605  Melania and I are honored to light up the @ Wh... 2017-04-02    21335   \n",
       "36954  ....should never have been appointed and there... 2019-03-15    23150   \n",
       "3676   Why does Barack Obama's ring have an arabic in... 2012-10-11     9367   \n",
       "38364  ....of which was squandered away or wasted, ne... 2019-07-18    21130   \n",
       "\n",
       "      favorites     mentions                        hashtags      time  \n",
       "34205     99989          NaN                             NaN  07:51:20  \n",
       "39220     99989          NaN                             NaN  08:10:05  \n",
       "42884     99988          NaN                             NaN  19:05:58  \n",
       "41207     99982          NaN                             NaN  13:44:30  \n",
       "28976      9998          NaN                             NaN  07:31:53  \n",
       "35154     99978   @WashTimes                             NaN  17:01:33  \n",
       "31605     99977  @WhiteHouse  #WorldAutismAwarenessDay,#LIUB  19:58:29  \n",
       "36954     99970          NaN                             NaN  08:55:16  \n",
       "3676       9997          NaN                             NaN  15:11:55  \n",
       "38364     99967          NaN                             NaN  09:54:15  "
      ]
     },
     "execution_count": 19,
     "metadata": {},
     "output_type": "execute_result"
    }
   ],
   "source": [
    "df.sort_values('favorites', ascending=False).iloc[:10]"
   ]
  },
  {
   "cell_type": "code",
   "execution_count": 20,
   "id": "07fd628e",
   "metadata": {},
   "outputs": [],
   "source": [
    "import nltk"
   ]
  },
  {
   "cell_type": "code",
   "execution_count": 21,
   "id": "8b8d1b73",
   "metadata": {},
   "outputs": [],
   "source": [
    "import re"
   ]
  },
  {
   "cell_type": "code",
   "execution_count": 24,
   "id": "ca26bfb6",
   "metadata": {},
   "outputs": [
    {
     "name": "stdout",
     "output_type": "stream",
     "text": [
      "<class 'pandas.core.series.Series'>\n",
      "RangeIndex: 43352 entries, 1 to 43352\n",
      "Series name: content\n",
      "Non-Null Count  Dtype \n",
      "--------------  ----- \n",
      "43352 non-null  object\n",
      "dtypes: object(1)\n",
      "memory usage: 338.8+ KB\n"
     ]
    }
   ],
   "source": [
    "df['content'].info()"
   ]
  },
  {
   "cell_type": "code",
   "execution_count": 27,
   "id": "4be9a522",
   "metadata": {},
   "outputs": [],
   "source": [
    "df['content'].dropna(inplace=True)"
   ]
  },
  {
   "cell_type": "code",
   "execution_count": 30,
   "id": "ea9e63f3",
   "metadata": {},
   "outputs": [],
   "source": [
    "df['content'] = df['content'].astype(str)"
   ]
  },
  {
   "cell_type": "code",
   "execution_count": 31,
   "id": "cb689851",
   "metadata": {},
   "outputs": [],
   "source": [
    "content = df['content']"
   ]
  },
  {
   "cell_type": "code",
   "execution_count": 33,
   "id": "b61839d4",
   "metadata": {},
   "outputs": [],
   "source": [
    "filtered_content = content.replace('[','').replace(']','').replace('\"','')\n",
    "filtered_content = filtered_content.replace('“','').replace('”','').replace('’',\"\")"
   ]
  },
  {
   "cell_type": "code",
   "execution_count": 35,
   "id": "cae5b51e",
   "metadata": {
    "scrolled": true
   },
   "outputs": [
    {
     "data": {
      "text/plain": [
       "1        be sure to tune in and watch donald trump on l...\n",
       "2        donald trump will be appearing on the view tom...\n",
       "3        donald trump reads top ten financial tips on l...\n",
       "4        new blog post: celebrity apprentice finale and...\n",
       "5        \"my persona will never be that of a wallflower...\n",
       "                               ...                        \n",
       "43348    joe biden was a total failure in government. h...\n",
       "43349    will be interviewed on @ seanhannity tonight a...\n",
       "43350                           pic.twitter.com/3lm1spbu8x\n",
       "43351                           pic.twitter.com/vpce5maduz\n",
       "43352                           pic.twitter.com/vllc0bhw41\n",
       "Name: content, Length: 43352, dtype: object"
      ]
     },
     "execution_count": 35,
     "metadata": {},
     "output_type": "execute_result"
    }
   ],
   "source": [
    "filtered_content = filtered_content.lower()  # .lower()를 사용해서 소문자로 변환\n",
    "filtered_content"
   ]
  },
  {
   "cell_type": "code",
   "execution_count": 42,
   "id": "017db286",
   "metadata": {},
   "outputs": [],
   "source": [
    "word_tokens = filtered_content.astype(str).apply(nltk.word_tokenize)"
   ]
  },
  {
   "cell_type": "code",
   "execution_count": 43,
   "id": "a04e5fc0",
   "metadata": {},
   "outputs": [
    {
     "name": "stdout",
     "output_type": "stream",
     "text": [
      "1        [be, sure, to, tune, in, and, watch, donald, t...\n",
      "2        [donald, trump, will, be, appearing, on, the, ...\n",
      "3        [donald, trump, reads, top, ten, financial, ti...\n",
      "4        [new, blog, post, :, celebrity, apprentice, fi...\n",
      "5        [``, my, persona, will, never, be, that, of, a...\n",
      "                               ...                        \n",
      "43348    [joe, biden, was, a, total, failure, in, gover...\n",
      "43349    [will, be, interviewed, on, @, seanhannity, to...\n",
      "43350                         [pic.twitter.com/3lm1spbu8x]\n",
      "43351                         [pic.twitter.com/vpce5maduz]\n",
      "43352                         [pic.twitter.com/vllc0bhw41]\n",
      "Name: content, Length: 43352, dtype: object\n"
     ]
    }
   ],
   "source": [
    "print(word_tokens)"
   ]
  },
  {
   "cell_type": "code",
   "execution_count": 46,
   "id": "20bd55f6",
   "metadata": {},
   "outputs": [],
   "source": [
    "from nltk.tag import pos_tag"
   ]
  },
  {
   "cell_type": "code",
   "execution_count": 48,
   "id": "500299b1",
   "metadata": {},
   "outputs": [
    {
     "name": "stderr",
     "output_type": "stream",
     "text": [
      "IOPub data rate exceeded.\n",
      "The notebook server will temporarily stop sending output\n",
      "to the client in order to avoid crashing it.\n",
      "To change this limit, set the config variable\n",
      "`--NotebookApp.iopub_data_rate_limit`.\n",
      "\n",
      "Current values:\n",
      "NotebookApp.iopub_data_rate_limit=1000000.0 (bytes/sec)\n",
      "NotebookApp.rate_limit_window=3.0 (secs)\n",
      "\n"
     ]
    }
   ],
   "source": [
    "tokens_pos = pos_tag(word_tokens.astype(str))   # pos_tag()의 입력값으로는 단어의 리스트가 들어가야 한다\n",
    "print(tokens_pos)"
   ]
  },
  {
   "cell_type": "code",
   "execution_count": 49,
   "id": "d8bbc47a",
   "metadata": {},
   "outputs": [
    {
     "name": "stderr",
     "output_type": "stream",
     "text": [
      "IOPub data rate exceeded.\n",
      "The notebook server will temporarily stop sending output\n",
      "to the client in order to avoid crashing it.\n",
      "To change this limit, set the config variable\n",
      "`--NotebookApp.iopub_data_rate_limit`.\n",
      "\n",
      "Current values:\n",
      "NotebookApp.iopub_data_rate_limit=1000000.0 (bytes/sec)\n",
      "NotebookApp.rate_limit_window=3.0 (secs)\n",
      "\n"
     ]
    }
   ],
   "source": [
    "NN_words = []\n",
    "\n",
    "for word, pos in tokens_pos:\n",
    "    if 'NN' in pos:           ## Noun 종류 4개는 모두 'NN'을 포함하고 있어서 (NN, NNS, NNP, NNPS)\n",
    "        NN_words.append(word)\n",
    "\n",
    "print(NN_words)"
   ]
  },
  {
   "cell_type": "code",
   "execution_count": null,
   "id": "5a5df212",
   "metadata": {},
   "outputs": [],
   "source": []
  }
 ],
 "metadata": {
  "kernelspec": {
   "display_name": "Python 3 (ipykernel)",
   "language": "python",
   "name": "python3"
  },
  "language_info": {
   "codemirror_mode": {
    "name": "ipython",
    "version": 3
   },
   "file_extension": ".py",
   "mimetype": "text/x-python",
   "name": "python",
   "nbconvert_exporter": "python",
   "pygments_lexer": "ipython3",
   "version": "3.9.12"
  }
 },
 "nbformat": 4,
 "nbformat_minor": 5
}
