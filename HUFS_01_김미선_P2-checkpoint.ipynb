{
 "cells": [
  {
   "cell_type": "code",
   "execution_count": 1,
   "id": "8539e199",
   "metadata": {},
   "outputs": [],
   "source": [
    "import numpy as np\n",
    "import pandas as pd"
   ]
  },
  {
   "cell_type": "code",
   "execution_count": 3,
   "id": "9484f1ac",
   "metadata": {},
   "outputs": [],
   "source": [
    "url = \"http://openapi.seoul.go.kr:8088/sample/--------/1/5/\"\n",
    "file_type = 'json'\n",
    "service_name = 'BukChonInOutPeopleInfo'"
   ]
  },
  {
   "cell_type": "code",
   "execution_count": 4,
   "id": "576046a3",
   "metadata": {},
   "outputs": [],
   "source": [
    "import os"
   ]
  },
  {
   "cell_type": "code",
   "execution_count": 23,
   "id": "6b0d9243",
   "metadata": {},
   "outputs": [],
   "source": [
    "url1 = url.split(\"/--------/\")[0]\n",
    "url2 = url.split(\"/--------/\")[1]"
   ]
  },
  {
   "cell_type": "code",
   "execution_count": 24,
   "id": "91de396b",
   "metadata": {},
   "outputs": [
    {
     "data": {
      "text/plain": [
       "'http://openapi.seoul.go.kr:8088/sample'"
      ]
     },
     "execution_count": 24,
     "metadata": {},
     "output_type": "execute_result"
    }
   ],
   "source": [
    "url1"
   ]
  },
  {
   "cell_type": "code",
   "execution_count": 25,
   "id": "cca490f5",
   "metadata": {},
   "outputs": [
    {
     "data": {
      "text/plain": [
       "'1/5/'"
      ]
     },
     "execution_count": 25,
     "metadata": {},
     "output_type": "execute_result"
    }
   ],
   "source": [
    "url2"
   ]
  },
  {
   "cell_type": "code",
   "execution_count": 27,
   "id": "f1a1fb94",
   "metadata": {},
   "outputs": [],
   "source": [
    "url = os.path.join(url1, file_type, service_name, url2)"
   ]
  },
  {
   "cell_type": "code",
   "execution_count": 28,
   "id": "d08a94cd",
   "metadata": {},
   "outputs": [
    {
     "data": {
      "text/plain": [
       "'http://openapi.seoul.go.kr:8088/sample\\\\json\\\\BukChonInOutPeopleInfo\\\\1/5/'"
      ]
     },
     "execution_count": 28,
     "metadata": {},
     "output_type": "execute_result"
    }
   ],
   "source": [
    "url"
   ]
  },
  {
   "cell_type": "code",
   "execution_count": 29,
   "id": "f9245f59",
   "metadata": {},
   "outputs": [],
   "source": [
    "data = {\"BukChonInOutPeopleInfo\":{\"list_total_count\":29335,\"RESULT\":{\"CODE\":\"INFO-000\",\"MESSAGE\":\"정상 처리되었습니다\"},\"row\":[{\"DEVICEID\":2.0,\"DEVICENAME\":\"계동길 69\",\"DESCRIPTION\":\"계동교회 앞\",\"STARTTIME\":\"2022-11-30 21:10:41\",\"ENDTIME\":\"2022-11-30 21:20:41\",\"INCOUNT\":9386.0,\"OUTCOUNT\":13749.0},{\"DEVICEID\":1.0,\"DEVICENAME\":\"율곡로3길 50\",\"DESCRIPTION\":\"덕성여고 앞\",\"STARTTIME\":\"2022-11-30 21:10:41\",\"ENDTIME\":\"2022-11-30 21:20:41\",\"INCOUNT\":7903.0,\"OUTCOUNT\":5279.0},{\"DEVICEID\":2.0,\"DEVICENAME\":\"계동길 69\",\"DESCRIPTION\":\"계동교회 앞\",\"STARTTIME\":\"2022-11-30 21:20:41\",\"ENDTIME\":\"2022-11-30 21:30:41\",\"INCOUNT\":9398.0,\"OUTCOUNT\":13776.0},{\"DEVICEID\":1.0,\"DEVICENAME\":\"율곡로3길 50\",\"DESCRIPTION\":\"덕성여고 앞\",\"STARTTIME\":\"2022-11-30 21:20:41\",\"ENDTIME\":\"2022-11-30 21:30:41\",\"INCOUNT\":7927.0,\"OUTCOUNT\":5312.0},{\"DEVICEID\":2.0,\"DEVICENAME\":\"계동길 69\",\"DESCRIPTION\":\"계동교회 앞\",\"STARTTIME\":\"2022-11-30 21:30:41\",\"ENDTIME\":\"2022-11-30 21:40:41\",\"INCOUNT\":9414.0,\"OUTCOUNT\":13800.0}]}}"
   ]
  },
  {
   "cell_type": "code",
   "execution_count": 30,
   "id": "d0a273ce",
   "metadata": {},
   "outputs": [],
   "source": [
    "import json"
   ]
  },
  {
   "cell_type": "code",
   "execution_count": 39,
   "id": "f5e06504",
   "metadata": {},
   "outputs": [],
   "source": [
    "dict_data = dict(data)"
   ]
  },
  {
   "cell_type": "code",
   "execution_count": 44,
   "id": "883a949f",
   "metadata": {},
   "outputs": [
    {
     "data": {
      "text/plain": [
       "dict_keys(['BukChonInOutPeopleInfo'])"
      ]
     },
     "execution_count": 44,
     "metadata": {},
     "output_type": "execute_result"
    }
   ],
   "source": [
    "dict_data.keys()"
   ]
  },
  {
   "cell_type": "code",
   "execution_count": 49,
   "id": "14938984",
   "metadata": {},
   "outputs": [
    {
     "data": {
      "text/plain": [
       "{'list_total_count': 29335,\n",
       " 'RESULT': {'CODE': 'INFO-000', 'MESSAGE': '정상 처리되었습니다'},\n",
       " 'row': [{'DEVICEID': 2.0,\n",
       "   'DEVICENAME': '계동길 69',\n",
       "   'DESCRIPTION': '계동교회 앞',\n",
       "   'STARTTIME': '2022-11-30 21:10:41',\n",
       "   'ENDTIME': '2022-11-30 21:20:41',\n",
       "   'INCOUNT': 9386.0,\n",
       "   'OUTCOUNT': 13749.0},\n",
       "  {'DEVICEID': 1.0,\n",
       "   'DEVICENAME': '율곡로3길 50',\n",
       "   'DESCRIPTION': '덕성여고 앞',\n",
       "   'STARTTIME': '2022-11-30 21:10:41',\n",
       "   'ENDTIME': '2022-11-30 21:20:41',\n",
       "   'INCOUNT': 7903.0,\n",
       "   'OUTCOUNT': 5279.0},\n",
       "  {'DEVICEID': 2.0,\n",
       "   'DEVICENAME': '계동길 69',\n",
       "   'DESCRIPTION': '계동교회 앞',\n",
       "   'STARTTIME': '2022-11-30 21:20:41',\n",
       "   'ENDTIME': '2022-11-30 21:30:41',\n",
       "   'INCOUNT': 9398.0,\n",
       "   'OUTCOUNT': 13776.0},\n",
       "  {'DEVICEID': 1.0,\n",
       "   'DEVICENAME': '율곡로3길 50',\n",
       "   'DESCRIPTION': '덕성여고 앞',\n",
       "   'STARTTIME': '2022-11-30 21:20:41',\n",
       "   'ENDTIME': '2022-11-30 21:30:41',\n",
       "   'INCOUNT': 7927.0,\n",
       "   'OUTCOUNT': 5312.0},\n",
       "  {'DEVICEID': 2.0,\n",
       "   'DEVICENAME': '계동길 69',\n",
       "   'DESCRIPTION': '계동교회 앞',\n",
       "   'STARTTIME': '2022-11-30 21:30:41',\n",
       "   'ENDTIME': '2022-11-30 21:40:41',\n",
       "   'INCOUNT': 9414.0,\n",
       "   'OUTCOUNT': 13800.0}]}"
      ]
     },
     "execution_count": 49,
     "metadata": {},
     "output_type": "execute_result"
    }
   ],
   "source": [
    "dict_data['BukChonInOutPeopleInfo']"
   ]
  },
  {
   "cell_type": "code",
   "execution_count": 2,
   "id": "ef1d8180",
   "metadata": {},
   "outputs": [],
   "source": [
    "dict_data = [{'DEVICEID': 2.0,\n",
    "   'DEVICENAME': '계동길 69',\n",
    "   'DESCRIPTION': '계동교회 앞',\n",
    "   'STARTTIME': '2022-11-30 21:10:41',\n",
    "   'ENDTIME': '2022-11-30 21:20:41',\n",
    "   'INCOUNT': 9386.0,\n",
    "   'OUTCOUNT': 13749.0},\n",
    "  {'DEVICEID': 1.0,\n",
    "   'DEVICENAME': '율곡로3길 50',\n",
    "   'DESCRIPTION': '덕성여고 앞',\n",
    "   'STARTTIME': '2022-11-30 21:10:41',\n",
    "   'ENDTIME': '2022-11-30 21:20:41',\n",
    "   'INCOUNT': 7903.0,\n",
    "   'OUTCOUNT': 5279.0},\n",
    "  {'DEVICEID': 2.0,\n",
    "   'DEVICENAME': '계동길 69',\n",
    "   'DESCRIPTION': '계동교회 앞',\n",
    "   'STARTTIME': '2022-11-30 21:20:41',\n",
    "   'ENDTIME': '2022-11-30 21:30:41',\n",
    "   'INCOUNT': 9398.0,\n",
    "   'OUTCOUNT': 13776.0},\n",
    "  {'DEVICEID': 1.0,\n",
    "   'DEVICENAME': '율곡로3길 50',\n",
    "   'DESCRIPTION': '덕성여고 앞',\n",
    "   'STARTTIME': '2022-11-30 21:20:41',\n",
    "   'ENDTIME': '2022-11-30 21:30:41',\n",
    "   'INCOUNT': 7927.0,\n",
    "   'OUTCOUNT': 5312.0},\n",
    "  {'DEVICEID': 2.0,\n",
    "   'DEVICENAME': '계동길 69',\n",
    "   'DESCRIPTION': '계동교회 앞',\n",
    "   'STARTTIME': '2022-11-30 21:30:41',\n",
    "   'ENDTIME': '2022-11-30 21:40:41',\n",
    "   'INCOUNT': 9414.0,\n",
    "   'OUTCOUNT': 13800.0}]"
   ]
  },
  {
   "cell_type": "code",
   "execution_count": 3,
   "id": "e7c79f9f",
   "metadata": {},
   "outputs": [],
   "source": [
    "df=pd.DataFrame(dict_data) "
   ]
  },
  {
   "cell_type": "code",
   "execution_count": 4,
   "id": "390e100b",
   "metadata": {},
   "outputs": [
    {
     "name": "stdout",
     "output_type": "stream",
     "text": [
      "<class 'pandas.core.frame.DataFrame'>\n",
      "RangeIndex: 5 entries, 0 to 4\n",
      "Data columns (total 7 columns):\n",
      " #   Column       Non-Null Count  Dtype  \n",
      "---  ------       --------------  -----  \n",
      " 0   DEVICEID     5 non-null      float64\n",
      " 1   DEVICENAME   5 non-null      object \n",
      " 2   DESCRIPTION  5 non-null      object \n",
      " 3   STARTTIME    5 non-null      object \n",
      " 4   ENDTIME      5 non-null      object \n",
      " 5   INCOUNT      5 non-null      float64\n",
      " 6   OUTCOUNT     5 non-null      float64\n",
      "dtypes: float64(3), object(4)\n",
      "memory usage: 408.0+ bytes\n"
     ]
    }
   ],
   "source": [
    "df.info()"
   ]
  },
  {
   "cell_type": "code",
   "execution_count": 7,
   "id": "0f070181",
   "metadata": {},
   "outputs": [],
   "source": [
    "df['ENDTIME'] = pd.to_datetime (df['ENDTIME']) "
   ]
  },
  {
   "cell_type": "code",
   "execution_count": 8,
   "id": "deb86299",
   "metadata": {},
   "outputs": [],
   "source": [
    "df['Month'] = df['ENDTIME'].dt.month "
   ]
  },
  {
   "cell_type": "code",
   "execution_count": 9,
   "id": "ed5bbc5f",
   "metadata": {},
   "outputs": [
    {
     "data": {
      "text/html": [
       "<div>\n",
       "<style scoped>\n",
       "    .dataframe tbody tr th:only-of-type {\n",
       "        vertical-align: middle;\n",
       "    }\n",
       "\n",
       "    .dataframe tbody tr th {\n",
       "        vertical-align: top;\n",
       "    }\n",
       "\n",
       "    .dataframe thead th {\n",
       "        text-align: right;\n",
       "    }\n",
       "</style>\n",
       "<table border=\"1\" class=\"dataframe\">\n",
       "  <thead>\n",
       "    <tr style=\"text-align: right;\">\n",
       "      <th></th>\n",
       "      <th>DEVICEID</th>\n",
       "      <th>DEVICENAME</th>\n",
       "      <th>DESCRIPTION</th>\n",
       "      <th>STARTTIME</th>\n",
       "      <th>ENDTIME</th>\n",
       "      <th>INCOUNT</th>\n",
       "      <th>OUTCOUNT</th>\n",
       "      <th>Month</th>\n",
       "    </tr>\n",
       "  </thead>\n",
       "  <tbody>\n",
       "    <tr>\n",
       "      <th>0</th>\n",
       "      <td>2.0</td>\n",
       "      <td>계동길 69</td>\n",
       "      <td>계동교회 앞</td>\n",
       "      <td>2022-11-30 21:10:41</td>\n",
       "      <td>2022-11-30 21:20:41</td>\n",
       "      <td>9386.0</td>\n",
       "      <td>13749.0</td>\n",
       "      <td>11</td>\n",
       "    </tr>\n",
       "    <tr>\n",
       "      <th>1</th>\n",
       "      <td>1.0</td>\n",
       "      <td>율곡로3길 50</td>\n",
       "      <td>덕성여고 앞</td>\n",
       "      <td>2022-11-30 21:10:41</td>\n",
       "      <td>2022-11-30 21:20:41</td>\n",
       "      <td>7903.0</td>\n",
       "      <td>5279.0</td>\n",
       "      <td>11</td>\n",
       "    </tr>\n",
       "    <tr>\n",
       "      <th>2</th>\n",
       "      <td>2.0</td>\n",
       "      <td>계동길 69</td>\n",
       "      <td>계동교회 앞</td>\n",
       "      <td>2022-11-30 21:20:41</td>\n",
       "      <td>2022-11-30 21:30:41</td>\n",
       "      <td>9398.0</td>\n",
       "      <td>13776.0</td>\n",
       "      <td>11</td>\n",
       "    </tr>\n",
       "    <tr>\n",
       "      <th>3</th>\n",
       "      <td>1.0</td>\n",
       "      <td>율곡로3길 50</td>\n",
       "      <td>덕성여고 앞</td>\n",
       "      <td>2022-11-30 21:20:41</td>\n",
       "      <td>2022-11-30 21:30:41</td>\n",
       "      <td>7927.0</td>\n",
       "      <td>5312.0</td>\n",
       "      <td>11</td>\n",
       "    </tr>\n",
       "    <tr>\n",
       "      <th>4</th>\n",
       "      <td>2.0</td>\n",
       "      <td>계동길 69</td>\n",
       "      <td>계동교회 앞</td>\n",
       "      <td>2022-11-30 21:30:41</td>\n",
       "      <td>2022-11-30 21:40:41</td>\n",
       "      <td>9414.0</td>\n",
       "      <td>13800.0</td>\n",
       "      <td>11</td>\n",
       "    </tr>\n",
       "  </tbody>\n",
       "</table>\n",
       "</div>"
      ],
      "text/plain": [
       "   DEVICEID DEVICENAME DESCRIPTION            STARTTIME             ENDTIME  \\\n",
       "0       2.0     계동길 69      계동교회 앞  2022-11-30 21:10:41 2022-11-30 21:20:41   \n",
       "1       1.0   율곡로3길 50      덕성여고 앞  2022-11-30 21:10:41 2022-11-30 21:20:41   \n",
       "2       2.0     계동길 69      계동교회 앞  2022-11-30 21:20:41 2022-11-30 21:30:41   \n",
       "3       1.0   율곡로3길 50      덕성여고 앞  2022-11-30 21:20:41 2022-11-30 21:30:41   \n",
       "4       2.0     계동길 69      계동교회 앞  2022-11-30 21:30:41 2022-11-30 21:40:41   \n",
       "\n",
       "   INCOUNT  OUTCOUNT  Month  \n",
       "0   9386.0   13749.0     11  \n",
       "1   7903.0    5279.0     11  \n",
       "2   9398.0   13776.0     11  \n",
       "3   7927.0    5312.0     11  \n",
       "4   9414.0   13800.0     11  "
      ]
     },
     "execution_count": 9,
     "metadata": {},
     "output_type": "execute_result"
    }
   ],
   "source": [
    "df"
   ]
  },
  {
   "cell_type": "code",
   "execution_count": 15,
   "id": "54b0ba36",
   "metadata": {},
   "outputs": [
    {
     "data": {
      "text/plain": [
       "Month\n",
       "11    8805.6\n",
       "Name: INCOUNT, dtype: float64"
      ]
     },
     "execution_count": 15,
     "metadata": {},
     "output_type": "execute_result"
    }
   ],
   "source": [
    "df.groupby(by='Month')['INCOUNT'].mean()"
   ]
  },
  {
   "cell_type": "code",
   "execution_count": 16,
   "id": "e7528be8",
   "metadata": {},
   "outputs": [
    {
     "data": {
      "text/plain": [
       "Month\n",
       "11    10383.2\n",
       "Name: OUTCOUNT, dtype: float64"
      ]
     },
     "execution_count": 16,
     "metadata": {},
     "output_type": "execute_result"
    }
   ],
   "source": [
    "df.groupby(by='Month')['OUTCOUNT'].mean()"
   ]
  },
  {
   "cell_type": "code",
   "execution_count": 17,
   "id": "5bb8daa6",
   "metadata": {},
   "outputs": [
    {
     "data": {
      "text/plain": [
       "Month\n",
       "11    7903.0\n",
       "Name: INCOUNT, dtype: float64"
      ]
     },
     "execution_count": 17,
     "metadata": {},
     "output_type": "execute_result"
    }
   ],
   "source": [
    "df.groupby(by='Month')['INCOUNT'].min()"
   ]
  },
  {
   "cell_type": "code",
   "execution_count": 18,
   "id": "5e6205b6",
   "metadata": {},
   "outputs": [
    {
     "data": {
      "text/plain": [
       "Month\n",
       "11    9414.0\n",
       "Name: INCOUNT, dtype: float64"
      ]
     },
     "execution_count": 18,
     "metadata": {},
     "output_type": "execute_result"
    }
   ],
   "source": [
    "df.groupby(by='Month')['INCOUNT'].max()"
   ]
  },
  {
   "cell_type": "code",
   "execution_count": 19,
   "id": "c6825aef",
   "metadata": {},
   "outputs": [
    {
     "data": {
      "text/plain": [
       "Month\n",
       "11    5279.0\n",
       "Name: OUTCOUNT, dtype: float64"
      ]
     },
     "execution_count": 19,
     "metadata": {},
     "output_type": "execute_result"
    }
   ],
   "source": [
    "df.groupby(by='Month')['OUTCOUNT'].min()"
   ]
  },
  {
   "cell_type": "code",
   "execution_count": 20,
   "id": "1f477048",
   "metadata": {},
   "outputs": [
    {
     "data": {
      "text/plain": [
       "Month\n",
       "11    13800.0\n",
       "Name: OUTCOUNT, dtype: float64"
      ]
     },
     "execution_count": 20,
     "metadata": {},
     "output_type": "execute_result"
    }
   ],
   "source": [
    "df.groupby(by='Month')['OUTCOUNT'].max()"
   ]
  },
  {
   "cell_type": "code",
   "execution_count": null,
   "id": "ab6818a6",
   "metadata": {},
   "outputs": [],
   "source": []
  }
 ],
 "metadata": {
  "kernelspec": {
   "display_name": "Python 3 (ipykernel)",
   "language": "python",
   "name": "python3"
  },
  "language_info": {
   "codemirror_mode": {
    "name": "ipython",
    "version": 3
   },
   "file_extension": ".py",
   "mimetype": "text/x-python",
   "name": "python",
   "nbconvert_exporter": "python",
   "pygments_lexer": "ipython3",
   "version": "3.9.12"
  }
 },
 "nbformat": 4,
 "nbformat_minor": 5
}
